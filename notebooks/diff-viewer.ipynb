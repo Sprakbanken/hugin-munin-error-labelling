{
 "cells": [
  {
   "cell_type": "markdown",
   "id": "323fee3a-e8ef-42f0-8642-36ae13d9dec7",
   "metadata": {},
   "source": [
    "## Diff viewer"
   ]
  },
  {
   "cell_type": "code",
   "execution_count": null,
   "id": "851c2e46",
   "metadata": {},
   "outputs": [],
   "source": [
    "import importlib\n",
    "if importlib.util.find_spec(\"google.colab\") is not None:\n",
    "    !pip install datasets pandas ipywidgets"
   ]
  },
  {
   "cell_type": "code",
   "execution_count": 1,
   "id": "ab3a2493-942e-441c-86d2-865e53325fc5",
   "metadata": {},
   "outputs": [],
   "source": [
    "import difflib\n",
    "from collections import defaultdict\n",
    "\n",
    "import datasets\n",
    "import ipywidgets as widgets\n",
    "import pandas as pd\n",
    "from IPython.display import display, HTML, Markdown"
   ]
  },
  {
   "cell_type": "code",
   "execution_count": 2,
   "id": "65d8fb52-9cf8-47e6-b688-428a6d55268e",
   "metadata": {},
   "outputs": [],
   "source": [
    "df = pd.read_csv(\"https://raw.githubusercontent.com/Sprakbanken/hugin-munin-error-labelling/main/data/behandlet/mistaken_lines.csv\")\n",
    "dataset = datasets.load_dataset(\"Teklia/NorHand-v3-line\", split=\"test\")"
   ]
  },
  {
   "cell_type": "code",
   "execution_count": 3,
   "id": "a8037777-f486-4c96-93e8-47a5250def98",
   "metadata": {},
   "outputs": [],
   "source": [
    "text_to_image = defaultdict(list)\n",
    "for row in dataset:\n",
    "    text_to_image[row[\"text\"]].append(row[\"image\"])\n",
    "text_to_image = dict(text_to_image)"
   ]
  },
  {
   "cell_type": "code",
   "execution_count": 4,
   "id": "7e17098c-4a01-4589-b445-7f8466338368",
   "metadata": {},
   "outputs": [
    {
     "data": {
      "application/vnd.jupyter.widget-view+json": {
       "model_id": "69301907a6af4aa8bf08eb8931270072",
       "version_major": 2,
       "version_minor": 0
      },
      "text/plain": [
       "interactive(children=(Dropdown(description='line', options=('e7ddbd5d-37e8-439c-aff3-779cea3ad95d', '0a0b69c6-…"
      ]
     },
     "metadata": {},
     "output_type": "display_data"
    },
    {
     "data": {
      "application/vnd.jupyter.widget-view+json": {
       "model_id": "d5c76950a5e6435a8bcf70b1a11256d5",
       "version_major": 2,
       "version_minor": 0
      },
      "text/plain": [
       "HBox(children=(Button(description='Forrige', style=ButtonStyle()), Dropdown(description='line', options=('e7dd…"
      ]
     },
     "metadata": {},
     "output_type": "display_data"
    }
   ],
   "source": [
    "# Create the dropdown widget\n",
    "options = df[\"arkindex_line_id\"].tolist()\n",
    "dropdown = widgets.Dropdown(options=options, value=options[0])\n",
    "\n",
    "# Create the buttons\n",
    "button_back = widgets.Button(description='Forrige')\n",
    "button_forward = widgets.Button(description='Neste')\n",
    "\n",
    "# Define the button click event handlers\n",
    "def on_button_back_clicked(b):\n",
    "    current_index = options.index(dropdown.value)\n",
    "    if current_index > 0:\n",
    "        dropdown.value = options[current_index - 1]\n",
    "\n",
    "def on_button_forward_clicked(b):\n",
    "    current_index = options.index(dropdown.value)\n",
    "    if current_index < len(options) - 1:\n",
    "        dropdown.value = options[current_index + 1]\n",
    "\n",
    "# Attach the event handlers to the buttons\n",
    "button_back.on_click(on_button_back_clicked)\n",
    "button_forward.on_click(on_button_forward_clicked)\n",
    "\n",
    "# Create an HBox to hold the widgets\n",
    "hbox = widgets.HBox([button_back, dropdown, button_forward])\n",
    "\n",
    "@widgets.interact(line=dropdown)\n",
    "def show_diff(line):\n",
    "    line = df.query(\"arkindex_line_id == @line\", local_dict={\"line\": line}).squeeze()\n",
    "\n",
    "    display(HTML(f\"<a href='{line.highlight_url}'>ArkIndex</a> | <a href='{line.callico_task_url}'>Callico<a>\" ))\n",
    "    display(HTML(difflib.HtmlDiff().make_file(\n",
    "        [line[\"ground_truth\"]],\n",
    "        [line[\"pylaia_prediction\"]],\n",
    "        \"ground_truth\",\n",
    "        \"pylaia_prediction\"\n",
    "    )))\n",
    "\n",
    "    imgs = text_to_image.get(line[\"ground_truth\"], [])\n",
    "    for img in imgs:\n",
    "        display(img)\n",
    "    if not imgs:\n",
    "        display(Markdown(\"**No line image found**\"))\n",
    "\n",
    "display(hbox)"
   ]
  },
  {
   "cell_type": "code",
   "execution_count": 10,
   "id": "02717286-c1af-4f97-a67b-b5330c518f0d",
   "metadata": {},
   "outputs": [],
   "source": []
  }
 ],
 "metadata": {
  "kernelspec": {
   "display_name": "Python 3 (ipykernel)",
   "language": "python",
   "name": "python3"
  },
  "language_info": {
   "codemirror_mode": {
    "name": "ipython",
    "version": 3
   },
   "file_extension": ".py",
   "mimetype": "text/x-python",
   "name": "python",
   "nbconvert_exporter": "python",
   "pygments_lexer": "ipython3",
   "version": "3.12.2"
  }
 },
 "nbformat": 4,
 "nbformat_minor": 5
}
